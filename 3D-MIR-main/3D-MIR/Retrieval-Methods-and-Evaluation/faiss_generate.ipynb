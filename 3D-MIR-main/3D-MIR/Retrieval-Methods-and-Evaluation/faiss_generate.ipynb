{
 "cells": [
  {
   "cell_type": "code",
   "execution_count": 1,
   "metadata": {},
   "outputs": [],
   "source": [
    "import faiss\n",
    "import numpy as np\n",
    "import pickle\n",
    "import pandas as pd\n",
    "import os"
   ]
  },
  {
   "cell_type": "code",
   "execution_count": 4,
   "metadata": {},
   "outputs": [
    {
     "name": "stdout",
     "output_type": "stream",
     "text": [
      "FAISS index saved to C:\\Users\\ADMIN\\Desktop\\Workspace\\Code\\BiomedCLIP\\MSD-Final\\3d-index\\pancreas-train-3d-index\\faiss_index_embd_train.index\n",
      "IDs saved to C:\\Users\\ADMIN\\Desktop\\Workspace\\Code\\BiomedCLIP\\MSD-Final\\3d-index\\pancreas-train-3d-index\\faiss_ids_embd_train.tsv\n"
     ]
    }
   ],
   "source": [
    "# Paths to your embedding folder and output files\n",
    "embedding_folder = r\"C:\\Users\\ADMIN\\Desktop\\Workspace\\Code\\data\\embeddings\"\n",
    "index_output_path = r\"C:\\Users\\ADMIN\\Desktop\\Workspace\\Code\\BiomedCLIP\\MSD-Final\\3d-index\\pancreas-train-3d-index\\faiss_index_embd_train.index\"\n",
    "ids_output_path = r\"C:\\Users\\ADMIN\\Desktop\\Workspace\\Code\\BiomedCLIP\\MSD-Final\\3d-index\\pancreas-train-3d-index\\faiss_ids_embd_train.tsv\"\n",
    "\n",
    "# Initialize an empty list to hold all embeddings and IDs\n",
    "all_embeddings = []\n",
    "all_ids = []\n",
    "\n",
    "# Iterate through each .pkl file in the embedding folder\n",
    "for filename in os.listdir(embedding_folder):\n",
    "    if filename.endswith('.pkl'):\n",
    "        file_path = os.path.join(embedding_folder, filename)\n",
    "        \n",
    "        # Load the numpy array from the .pkl file\n",
    "        with open(file_path, 'rb') as f:\n",
    "            embeddings = pickle.load(f)  # Load the numpy array\n",
    "            \n",
    "            # Append to the list\n",
    "            all_embeddings.append(embeddings)\n",
    "            \n",
    "            # Create unique IDs for each embedding\n",
    "            ids = [f\"{filename}_{i}\" for i in range(len(embeddings))]\n",
    "            all_ids.extend(ids)\n",
    "\n",
    "# Concatenate all embeddings into a single numpy array\n",
    "all_embeddings = np.vstack(all_embeddings)\n",
    "\n",
    "# Create FAISS index\n",
    "index = faiss.IndexFlatL2(all_embeddings.shape[1])  # Assuming L2 distance\n",
    "index.add(all_embeddings)\n",
    "faiss.write_index(index, index_output_path)\n",
    "\n",
    "# Save IDs to a .tsv file\n",
    "df_ids = pd.DataFrame({\"ids_str\": all_ids, \"ids_int\": range(len(all_ids))})\n",
    "df_ids.to_csv(ids_output_path, sep='\\t', index=False, header=False)\n",
    "\n",
    "print(f\"FAISS index saved to {index_output_path}\")\n",
    "print(f\"IDs saved to {ids_output_path}\")"
   ]
  }
 ],
 "metadata": {
  "kernelspec": {
   "display_name": ".venv",
   "language": "python",
   "name": "python3"
  },
  "language_info": {
   "codemirror_mode": {
    "name": "ipython",
    "version": 3
   },
   "file_extension": ".py",
   "mimetype": "text/x-python",
   "name": "python",
   "nbconvert_exporter": "python",
   "pygments_lexer": "ipython3",
   "version": "3.11.9"
  }
 },
 "nbformat": 4,
 "nbformat_minor": 2
}
